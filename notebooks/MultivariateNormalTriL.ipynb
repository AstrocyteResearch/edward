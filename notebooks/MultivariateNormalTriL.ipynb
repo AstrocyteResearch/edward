{
 "cells": [
  {
   "cell_type": "code",
   "execution_count": 1,
   "metadata": {
    "collapsed": true
   },
   "outputs": [],
   "source": [
    "# -*- coding: UTF-8 -*-\n",
    "\n",
    "\"\"\"\n",
    "NormalWishart-Normal Model\n",
    "Posterior inference with Edward BBVI\n",
    "[DOING]\n",
    "\"\"\"\n",
    "\n",
    "import edward as ed\n",
    "import matplotlib.cm as cm\n",
    "import matplotlib.pyplot as plt\n",
    "import numpy as np\n",
    "import tensorflow as tf\n",
    "from edward.models import MultivariateNormalTriL, WishartCholesky\n",
    "from scipy.stats import invwishart"
   ]
  },
  {
   "cell_type": "code",
   "execution_count": 2,
   "metadata": {
    "collapsed": false
   },
   "outputs": [
    {
     "data": {
      "image/png": "[encoded data removed]",
      "text/plain": [
       "<matplotlib.figure.Figure at 0x12f31a85710>"
      ]
     },
     "metadata": {},
     "output_type": "display_data"
    },
    {
     "name": "stdout",
     "output_type": "stream",
     "text": [
      "mu=[ 0.29130432 -0.39232118]\n",
      "sigma=[[ 7.41915012  5.5040112 ]\n",
      " [ 5.5040112   8.024716  ]]\n"
     ]
    }
   ],
   "source": [
    "N = 100\n",
    "D = 2\n",
    "\n",
    "# Data generation\n",
    "# NIW Inverse Wishart hyperparameters\n",
    "v = 3.\n",
    "W = np.array([[20., 30.], [25., 40.]], dtype=np.float32)\n",
    "sigma = invwishart.rvs(v, W)\n",
    "# NIW Normal hyperparameters\n",
    "m = np.array([1., 1.], dtype=np.float32)\n",
    "k = 0.8\n",
    "mu = np.random.multivariate_normal(m, sigma / k)\n",
    "xn_data = np.random.multivariate_normal(mu, sigma, N).astype(np.float32)\n",
    "plt.scatter(xn_data[:, 0], xn_data[:, 1], cmap=cm.gist_rainbow, s=5)\n",
    "plt.show()\n",
    "print('mu={}'.format(mu))\n",
    "print('sigma={}'.format(sigma))"
   ]
  },
  {
   "cell_type": "code",
   "execution_count": null,
   "metadata": {
    "collapsed": false
   },
   "outputs": [],
   "source": []
  },
  {
   "cell_type": "code",
   "execution_count": 3,
   "metadata": {
    "collapsed": false
   },
   "outputs": [
    {
     "name": "stdout",
     "output_type": "stream",
     "text": [
      "***** PRIORS *****\n",
      "v_prior: <tf.Variable 'Variable:0' shape=() dtype=float32_ref>\n",
      "W_prior: <tf.Variable 'Variable_1:0' shape=(2, 2) dtype=float32_ref>\n",
      "m_prior: <tf.Variable 'Variable_2:0' shape=(2,) dtype=float32_ref>\n",
      "k_prior: <tf.Variable 'Variable_3:0' shape=() dtype=float32_ref>\n"
     ]
    }
   ],
   "source": [
    "# Prior definition\n",
    "v_prior = tf.Variable(3., dtype=tf.float32, trainable=False)\n",
    "W_prior = tf.Variable(np.array([[1., 0.], [0., 1.]]),\n",
    "                      dtype=tf.float32, trainable=False)\n",
    "m_prior = tf.Variable(np.array([0.5, 0.5]), dtype=tf.float32, trainable=False)\n",
    "k_prior = tf.Variable(0.6, dtype=tf.float32, trainable=False)\n",
    "\n",
    "print('***** PRIORS *****')\n",
    "print('v_prior: {}'.format(v_prior))\n",
    "print('W_prior: {}'.format(W_prior))\n",
    "print('m_prior: {}'.format(m_prior))\n",
    "print('k_prior: {}'.format(k_prior))"
   ]
  },
  {
   "cell_type": "code",
   "execution_count": null,
   "metadata": {
    "collapsed": false
   },
   "outputs": [],
   "source": []
  },
  {
   "cell_type": "code",
   "execution_count": 4,
   "metadata": {
    "collapsed": false
   },
   "outputs": [
    {
     "name": "stdout",
     "output_type": "stream",
     "text": [
      "***** PROBABILISTIC MODEL *****\n",
      "mu: RandomVariable(\"MultivariateNormalTriL_3/\", shape=(2,), dtype=float32)\n",
      "sigma: RandomVariable(\"WishartCholesky_2/\", shape=(2, 2), dtype=float32)\n",
      "xn: RandomVariable(\"MultivariateNormalTriL_7/\", shape=(100, 2), dtype=float32)\n"
     ]
    }
   ],
   "source": [
    "# Posterior inference\n",
    "# Probabilistic model\n",
    "sigma = WishartCholesky(df=v_prior, scale=W_prior)\n",
    "mu = MultivariateNormalTriL(loc=m_prior, scale_tril=k_prior * sigma)\n",
    "#xn = MultivariateNormalTriL(loc=tf.reshape(tf.tile(mu, [N]), [N, D]),\n",
    "#                            scale_tril=tf.reshape(tf.tile(sigma, [N, 1]), [N, 2, 2]))\n",
    "xn = MultivariateNormalTriL(loc=tf.tile(tf.reshape(mu, [1,D]), [N, 1]),\n",
    "                            scale_tril=tf.tile(tf.reshape(sigma, [1, D, D]), [N, 1, 1]))\n",
    "\n",
    "print('***** PROBABILISTIC MODEL *****')\n",
    "print('mu: {}'.format(mu))\n",
    "print('sigma: {}'.format(sigma))\n",
    "print('xn: {}'.format(xn))"
   ]
  },
  {
   "cell_type": "code",
   "execution_count": null,
   "metadata": {
    "collapsed": false
   },
   "outputs": [
    {
     "name": "stdout",
     "output_type": "stream",
     "text": [
      "***** VARIATIONAL MODEL *****\n",
      "qmu: RandomVariable(\"MultivariateNormalTriL_11/\", shape=(2,), dtype=float32)\n",
      "qsigma: RandomVariable(\"WishartCholesky_5/\", shape=(2, 2), dtype=float32)\n",
      "xn_data: float32\n"
     ]
    }
   ],
   "source": [
    "# Variational model\n",
    "qmu = MultivariateNormalTriL(\n",
    "    loc=tf.Variable(tf.random_normal([D], dtype=tf.float32), name='v1'),\n",
    "    scale_tril=tf.nn.softplus(\n",
    "        tf.Variable(tf.random_normal([D, D], dtype=tf.float32), name='v2')))\n",
    "\n",
    "qsigma = WishartCholesky(\n",
    "    df=tf.nn.softplus(\n",
    "        tf.Variable(tf.random_normal([], dtype=tf.float32), name='v3')),\n",
    "    scale=tf.nn.softplus(\n",
    "        tf.Variable(tf.random_normal([D, D], dtype=tf.float32), name='v4')))\n",
    "\n",
    "print('***** VARIATIONAL MODEL *****')\n",
    "print('qmu: {}'.format(qmu))\n",
    "print('qsigma: {}'.format(qsigma))\n",
    "print('xn_data: {}'.format(xn_data.dtype))"
   ]
  },
  {
   "cell_type": "code",
   "execution_count": null,
   "metadata": {
    "collapsed": false
   },
   "outputs": [],
   "source": [
    "# Inference\n",
    "import datetime, os\n",
    "logdir_base = 'C:\\\\Users\\skruz\\\\temp\\\\tensorflow\\\\'\n",
    "inference = ed.KLqp({mu: qmu, sigma: qsigma}, data={xn: xn_data})\n",
    "log_run = datetime.datetime.strftime(datetime.datetime.utcnow(), \"%Y-%m-%dT%H%M%SZ\")\n",
    "inference.run(n_iter=2000, n_samples=20, logdir=os.path.join(logdir_base, log_run))"
   ]
  },
  {
   "cell_type": "code",
   "execution_count": null,
   "metadata": {
    "collapsed": false
   },
   "outputs": [],
   "source": [
    "L = tf.Variable(tf.random_normal([D, D], dtype=tf.float32))\n",
    "qsigma = WishartCholesky(\n",
    "    tf.nn.softplus(\n",
    "        tf.Variable(tf.random_normal([], dtype=tf.float32))+D+1),\n",
    "    LinearOperatorTriL(L).to_dense())"
   ]
  },
  {
   "cell_type": "code",
   "execution_count": null,
   "metadata": {
    "collapsed": false
   },
   "outputs": [],
   "source": []
  },
  {
   "cell_type": "code",
   "execution_count": null,
   "metadata": {
    "collapsed": true
   },
   "outputs": [],
   "source": []
  }
 ],
 "metadata": {
  "kernelspec": {
   "display_name": "Python 3",
   "language": "python",
   "name": "python3"
  },
  "language_info": {
   "codemirror_mode": {
    "name": "ipython",
    "version": 3
   },
   "file_extension": ".py",
   "mimetype": "text/x-python",
   "name": "python",
   "nbconvert_exporter": "python",
   "pygments_lexer": "ipython3",
   "version": "3.5.2"
  }
 },
 "nbformat": 4,
 "nbformat_minor": 2
}
